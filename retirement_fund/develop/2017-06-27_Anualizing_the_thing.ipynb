{
 "cells": [
  {
   "cell_type": "code",
   "execution_count": 26,
   "metadata": {
    "collapsed": false
   },
   "outputs": [],
   "source": [
    "import pandas as pd\n",
    "import io\n",
    "import requests\n",
    "import io\n",
    "import datetime\n",
    "import matplotlib.pyplot as plt\n",
    "%matplotlib inline\n",
    "from dateutil.relativedelta import relativedelta"
   ]
  },
  {
   "cell_type": "markdown",
   "metadata": {},
   "source": [
    "Lo hago con los datos dirctos anuales porque los mensuales estan truncado y existe una dirfereica al sumarlos para hacerlos anuales. En este caso la inflacion es la inflacion anual que habr[a a partir de la fecha indicada"
   ]
  },
  {
   "cell_type": "code",
   "execution_count": 29,
   "metadata": {
    "collapsed": false
   },
   "outputs": [],
   "source": [
    "post_infla = {'formatoCSV.x': '22',\n",
    "             'series': 'SP30578',\n",
    "             'version': '2'}\n",
    "url = 'http://www.banxico.org.mx/SieInternet/consultarDirectorioInternetAction.do?accion=consultarSeries'\n",
    "inflacion_cont = '\\n'.join(requests.post(url, data=post_infla).content.split('\\n')[12:])\n",
    "inflacion_data =pd.read_csv(io.StringIO(inflacion_cont.decode('utf-8')), names=['fecha', 'inflacion'], na_values='N/E')\n",
    "inflacion_data['fecha'] = inflacion_data.fecha.map(lambda x: datetime.datetime.strptime(x, '%d/%m/%Y') - relativedelta(months=11))\n",
    "inflacion_data.set_index('fecha', inplace=True)\n",
    "inflacion_data['inflacion'] = inflacion_data.inflacion.astype(float)"
   ]
  },
  {
   "cell_type": "code",
   "execution_count": 39,
   "metadata": {
    "collapsed": true
   },
   "outputs": [],
   "source": [
    "post_cetes = {'formatoCSV.x': '54',\n",
    "             'series': 'SF43945',\n",
    "             'version': '2'}\n",
    "cetes_cont = '\\n'.join(requests.post(url, data=post_cetes).content.split('\\n')[12:])\n",
    "cetes_data =pd.read_csv(io.StringIO(cetes_cont.decode('utf-8')), names=['fecha', 'cetes'], na_values='N/E')\n",
    "cetes_data['fecha'] = cetes_data.fecha.map(lambda x: datetime.datetime.strptime(x, '%d/%m/%Y'))\n",
    "cetes_data = cetes_data.loc[cetes_data.fecha > datetime.date(2002, 12, 31)]\n",
    "cetes_data.set_index('fecha', inplace=True)\n",
    "cetes_data['cetes'] = cetes_data.cetes.astype(float) * 0.84\n",
    "cetes_data = cetes_data.resample('MS').mean()"
   ]
  },
  {
   "cell_type": "code",
   "execution_count": 40,
   "metadata": {
    "collapsed": false
   },
   "outputs": [],
   "source": [
    "result = inflacion_data.merge(cetes_data, left_index=True, right_index=True, how='inner')"
   ]
  },
  {
   "cell_type": "code",
   "execution_count": 41,
   "metadata": {
    "collapsed": false
   },
   "outputs": [
    {
     "data": {
      "text/plain": [
       "count    162.000000\n",
       "mean       0.081220\n",
       "std        0.131063\n",
       "min       -0.201133\n",
       "25%       -0.000750\n",
       "50%        0.044267\n",
       "75%        0.180650\n",
       "max        0.445933\n",
       "Name: cetes_real, dtype: float64"
      ]
     },
     "execution_count": 41,
     "metadata": {},
     "output_type": "execute_result"
    },
    {
     "data": {
      "image/png": "[encoded data removed]",
      "text/plain": [
       "<matplotlib.figure.Figure at 0x7feebd35bd10>"
      ]
     },
     "metadata": {},
     "output_type": "display_data"
    }
   ],
   "source": [
    "result['cetes_real'] = (result['cetes']-result['inflacion'])/12\n",
    "result.cetes_real.plot()\n",
    "result['cetes_real'].describe()"
   ]
  },
  {
   "cell_type": "code",
   "execution_count": 48,
   "metadata": {
    "collapsed": false
   },
   "outputs": [],
   "source": [
    "ipc_cetes = {'formatoCSV.x': '74',\n",
    "             'series': 'SF4782',\n",
    "             'version': '2',\n",
    "             'tipoInformacion': '4,2'}\n",
    "ipc_cont = '\\n'.join(requests.post(url, data=ipc_cetes).content.split('\\n')[12:])\n",
    "ipc_data =pd.read_csv(io.StringIO(ipc_cont.decode('utf-8')), names=['fecha', 'ipc'], na_values='N/E')\n",
    "ipc_data['fecha'] = ipc_data.fecha.map(lambda x: datetime.datetime.strptime(x, '%d/%m/%Y')  - relativedelta(months=11))\n",
    "ipc_data.set_index('fecha', inplace=True)\n",
    "ipc_data['ipc'] = ipc_data.ipc.astype(float)\n",
    "ipc_data['ipc'] = ipc_data.ipc.rolling(window=12).sum()"
   ]
  },
  {
   "cell_type": "code",
   "execution_count": 49,
   "metadata": {
    "collapsed": false
   },
   "outputs": [
    {
     "data": {
      "text/html": [
       "<div>\n",
       "<style>\n",
       "    .dataframe thead tr:only-child th {\n",
       "        text-align: right;\n",
       "    }\n",
       "\n",
       "    .dataframe thead th {\n",
       "        text-align: left;\n",
       "    }\n",
       "\n",
       "    .dataframe tbody tr th {\n",
       "        vertical-align: top;\n",
       "    }\n",
       "</style>\n",
       "<table border=\"1\" class=\"dataframe\">\n",
       "  <thead>\n",
       "    <tr style=\"text-align: right;\">\n",
       "      <th></th>\n",
       "      <th>ipc</th>\n",
       "    </tr>\n",
       "    <tr>\n",
       "      <th>fecha</th>\n",
       "      <th></th>\n",
       "    </tr>\n",
       "  </thead>\n",
       "  <tbody>\n",
       "    <tr>\n",
       "      <th>2016-02-01</th>\n",
       "      <td>7.85</td>\n",
       "    </tr>\n",
       "    <tr>\n",
       "      <th>2016-03-01</th>\n",
       "      <td>7.35</td>\n",
       "    </tr>\n",
       "    <tr>\n",
       "      <th>2016-04-01</th>\n",
       "      <td>5.99</td>\n",
       "    </tr>\n",
       "    <tr>\n",
       "      <th>2016-05-01</th>\n",
       "      <td>7.68</td>\n",
       "    </tr>\n",
       "    <tr>\n",
       "      <th>2016-06-01</th>\n",
       "      <td>7.43</td>\n",
       "    </tr>\n",
       "  </tbody>\n",
       "</table>\n",
       "</div>"
      ],
      "text/plain": [
       "             ipc\n",
       "fecha           \n",
       "2016-02-01  7.85\n",
       "2016-03-01  7.35\n",
       "2016-04-01  5.99\n",
       "2016-05-01  7.68\n",
       "2016-06-01  7.43"
      ]
     },
     "execution_count": 49,
     "metadata": {},
     "output_type": "execute_result"
    }
   ],
   "source": [
    "ipc_data.tail()"
   ]
  },
  {
   "cell_type": "code",
   "execution_count": 79,
   "metadata": {
    "collapsed": false
   },
   "outputs": [
    {
     "data": {
      "text/plain": [
       "count    425.000000\n",
       "mean       0.827231\n",
       "std        3.340726\n",
       "min      -10.559958\n",
       "25%       -0.387275\n",
       "50%        0.895792\n",
       "75%        2.743933\n",
       "max       12.580233\n",
       "Name: ipc_real, dtype: float64"
      ]
     },
     "execution_count": 79,
     "metadata": {},
     "output_type": "execute_result"
    },
    {
     "data": {
      "image/png": "[encoded data removed]",
      "text/plain": [
       "<matplotlib.figure.Figure at 0x7feeb74ff990>"
      ]
     },
     "metadata": {},
     "output_type": "display_data"
    }
   ],
   "source": [
    "result_ipc = inflacion_data.merge(ipc_data, left_index=True, right_index=True, how='inner')\n",
    "result_ipc['ipc_real'] = (result_ipc['ipc']*0.99-result_ipc['inflacion'])/12\n",
    "result_ipc.ipc_real.plot()\n",
    "result_ipc.ipc_real.describe()"
   ]
  },
  {
   "cell_type": "code",
   "execution_count": 51,
   "metadata": {
    "collapsed": false
   },
   "outputs": [
    {
     "data": {
      "text/plain": [
       "'es_ES.UTF-8'"
      ]
     },
     "execution_count": 51,
     "metadata": {},
     "output_type": "execute_result"
    }
   ],
   "source": [
    "import locale\n",
    "locale.setlocale(locale.LC_TIME, 'es_ES.UTF-8')"
   ]
  },
  {
   "cell_type": "code",
   "execution_count": 52,
   "metadata": {
    "collapsed": true
   },
   "outputs": [],
   "source": [
    "def two_year_to_full(x):\n",
    "    partial = int(x)\n",
    "    if partial < 67:\n",
    "        result = 2000 + partial\n",
    "    else:\n",
    "        result = 1900 + partial\n",
    "    return str(result)\n",
    "def string_to_date(x):\n",
    "    partial = x[-2:]\n",
    "    date_string = x[:4] + two_year_to_full(partial)\n",
    "    return datetime.datetime.strptime(date_string, '%b-%Y')"
   ]
  },
  {
   "cell_type": "code",
   "execution_count": 69,
   "metadata": {
    "collapsed": false
   },
   "outputs": [],
   "source": [
    "sura = pd.read_csv('../files/rendimientos_bolsa_basi_nomi_histo.csv', skiprows=9)\n",
    "sura = sura.transpose().iloc[4:].reset_index().rename(columns={'index':'fecha', 0:'sura'})\n",
    "sura['fecha'] = sura.fecha.map(lambda x: string_to_date(x) - relativedelta(months=11))\n",
    "sura = sura.set_index('fecha')\n",
    "sura['sura'] = ((sura.sura.astype(float)-1.03)/12).rolling(window=12).sum()\n"
   ]
  },
  {
   "cell_type": "code",
   "execution_count": 70,
   "metadata": {
    "collapsed": false
   },
   "outputs": [
    {
     "data": {
      "text/plain": [
       "<matplotlib.axes._subplots.AxesSubplot at 0x7feebd1ae750>"
      ]
     },
     "execution_count": 70,
     "metadata": {},
     "output_type": "execute_result"
    },
    {
     "data": {
      "image/png": "[encoded data removed]",
      "text/plain": [
       "<matplotlib.figure.Figure at 0x7feeb74ffed0>"
      ]
     },
     "metadata": {},
     "output_type": "display_data"
    }
   ],
   "source": [
    "result_sura = inflacion_data.merge(sura, left_index=True, right_index=True, how='inner')\n",
    "result_sura['sura_real'] = (result_sura['sura']-result_sura['inflacion'])/12\n",
    "result_sura.sura_real.plot()"
   ]
  },
  {
   "cell_type": "code",
   "execution_count": 89,
   "metadata": {
    "collapsed": true
   },
   "outputs": [],
   "source": [
    "from scipy.optimize import curve_fit\n",
    "import numpy as np\n",
    "import random\n",
    "def func(x, a, c, d):\n",
    "    return a*np.exp(-c*x)+d"
   ]
  },
  {
   "cell_type": "code",
   "execution_count": 72,
   "metadata": {
    "collapsed": true
   },
   "outputs": [],
   "source": [
    "initial = 25\n",
    "afore_data = result_sura[initial:]\n",
    "data = np.array(afore_data.sura_real)\n",
    "points_num = len(data)\n",
    "p0=(2,0.005,1)\n",
    "popt, pcov = curve_fit(func, range(points_num), data, p0)"
   ]
  },
  {
   "cell_type": "code",
   "execution_count": 73,
   "metadata": {
    "collapsed": false
   },
   "outputs": [
    {
     "data": {
      "text/plain": [
       "array([ 0.98569642,  0.01134941,  0.47297073])"
      ]
     },
     "execution_count": 73,
     "metadata": {},
     "output_type": "execute_result"
    }
   ],
   "source": [
    "popt"
   ]
  },
  {
   "cell_type": "code",
   "execution_count": 74,
   "metadata": {
    "collapsed": false
   },
   "outputs": [
    {
     "data": {
      "text/plain": [
       "[<matplotlib.lines.Line2D at 0x7feebd394f90>]"
      ]
     },
     "execution_count": 74,
     "metadata": {},
     "output_type": "execute_result"
    },
    {
     "data": {
      "image/png": "[encoded data removed]",
      "text/plain": [
       "<matplotlib.figure.Figure at 0x7feebd3945d0>"
      ]
     },
     "metadata": {},
     "output_type": "display_data"
    }
   ],
   "source": [
    "xx = np.linspace(1, points_num, points_num)\n",
    "\n",
    "yy = func(xx, *popt)\n",
    "plt.plot(range(points_num), data, 'ko')\n",
    "plt.plot(xx,yy)"
   ]
  },
  {
   "cell_type": "code",
   "execution_count": 75,
   "metadata": {
    "collapsed": false
   },
   "outputs": [
    {
     "name": "stderr",
     "output_type": "stream",
     "text": [
      "/usr/local/lib/python2.7/dist-packages/ipykernel/__main__.py:1: SettingWithCopyWarning: \n",
      "A value is trying to be set on a copy of a slice from a DataFrame.\n",
      "Try using .loc[row_indexer,col_indexer] = value instead\n",
      "\n",
      "See the caveats in the documentation: http://pandas.pydata.org/pandas-docs/stable/indexing.html#indexing-view-versus-copy\n",
      "  if __name__ == '__main__':\n",
      "/usr/local/lib/python2.7/dist-packages/ipykernel/__main__.py:2: SettingWithCopyWarning: \n",
      "A value is trying to be set on a copy of a slice from a DataFrame.\n",
      "Try using .loc[row_indexer,col_indexer] = value instead\n",
      "\n",
      "See the caveats in the documentation: http://pandas.pydata.org/pandas-docs/stable/indexing.html#indexing-view-versus-copy\n",
      "  from ipykernel import kernelapp as app\n"
     ]
    },
    {
     "data": {
      "text/plain": [
       "count    202.000000\n",
       "mean       0.004387\n",
       "std        0.088172\n",
       "min       -0.236351\n",
       "25%       -0.036024\n",
       "50%        0.017830\n",
       "75%        0.065412\n",
       "max        0.165194\n",
       "Name: delta, dtype: float64"
      ]
     },
     "execution_count": 75,
     "metadata": {},
     "output_type": "execute_result"
    }
   ],
   "source": [
    "afore_data['ajuste'] = yy\n",
    "afore_data['delta'] = afore_data.sura_real - afore_data.ajuste\n",
    "afore_data.delta.describe()"
   ]
  },
  {
   "cell_type": "markdown",
   "metadata": {},
   "source": [
    "## Aqui comienza el analisis\n",
    "Las constantes encontradas son:"
   ]
  },
  {
   "cell_type": "code",
   "execution_count": 80,
   "metadata": {
    "collapsed": false
   },
   "outputs": [
    {
     "name": "stdout",
     "output_type": "stream",
     "text": [
      "Cetes: mediana = 0.0442666666667, std = 0.13106348251\n",
      "IPC: mediana = 0.895791666667, std = 3.34072610156\n",
      "SURA: mediana = 0.472970726441, std = 0.0881722567773\n"
     ]
    }
   ],
   "source": [
    "print('Cetes: mediana = ' + str(result['cetes_real'].median()) + ', std = ' + str(result['cetes_real'].std()))\n",
    "print('IPC: mediana = ' + str(result_ipc.ipc_real.median()) + ', std = ' + str(result_ipc.ipc_real.std()))\n",
    "print('SURA: mediana = ' + str(popt[-1]) + ', std = ' + str(afore_data.delta.std()))"
   ]
  },
  {
   "cell_type": "code",
   "execution_count": 154,
   "metadata": {
    "collapsed": false
   },
   "outputs": [
    {
     "name": "stdout",
     "output_type": "stream",
     "text": [
      "payment is 5802.32\n"
     ]
    }
   ],
   "source": [
    "ret_payment = 19000\n",
    "ret_age = 63\n",
    "til_age = 90\n",
    "my_age = 30\n",
    "afore_ratio = 0.8\n",
    "my_balance = 9439+24074+5341+46153+6000\n",
    "payment = 2183.28 + 59.52*2 + 3500\n",
    "min_prob = 20\n",
    "print('payment is ' + str(payment))"
   ]
  },
  {
   "cell_type": "code",
   "execution_count": null,
   "metadata": {
    "collapsed": true
   },
   "outputs": [],
   "source": []
  },
  {
   "cell_type": "code",
   "execution_count": 150,
   "metadata": {
    "collapsed": false
   },
   "outputs": [
    {
     "data": {
      "text/plain": [
       "5733730.504829614"
      ]
     },
     "execution_count": 150,
     "metadata": {},
     "output_type": "execute_result"
    }
   ],
   "source": [
    "N = (til_age - ret_age)*12\n",
    "present_value = ret_payment * (1 - (1 + result['cetes_real'].median()/100)**(-N))/(result['cetes_real'].median()/100)\n",
    "present_value"
   ]
  },
  {
   "cell_type": "code",
   "execution_count": 151,
   "metadata": {
    "collapsed": false
   },
   "outputs": [
    {
     "data": {
      "text/plain": [
       "-429.75877288593733"
      ]
     },
     "execution_count": 151,
     "metadata": {},
     "output_type": "execute_result"
    }
   ],
   "source": [
    "def simulate(rate, error, periods, initial, payment, size=1000):\n",
    "    names = ['sim_' + str(x) for x in range(1, size +1)]\n",
    "    sim_data = pd.DataFrame(columns=names)\n",
    "    initials = [initial] * size\n",
    "    sim_data.loc[0] = initials\n",
    "    for per in xrange(1, periods+1):\n",
    "        sim_data.loc[per] = sim_data.loc[per-1].apply(lambda x: (x*(1+random.gauss(rate, error))) + payment)\n",
    "    \n",
    "    return sim_data\n",
    "\n",
    "hey = simulate(result['cetes_real'].median()/100,result['cetes_real'].std()/100, N , 5800000, -ret_payment, 2000)\n",
    "np.percentile(hey.iloc[-1].values, min_prob)"
   ]
  },
  {
   "cell_type": "code",
   "execution_count": 152,
   "metadata": {
    "collapsed": true
   },
   "outputs": [],
   "source": [
    "N = (ret_age-my_age)*12\n",
    "afore_sim = simulate(popt[-1]/100,afore_data.delta.std()/100, N , initial*afore_ratio, payment*(afore_ratio), 2000)\n",
    "cetes_sim = simulate(result['cetes_real'].median()/100, result['cetes_real'].std()/100, N , initial*(1-afore_ratio), payment*(1 - afore_ratio), 1000)"
   ]
  },
  {
   "cell_type": "code",
   "execution_count": 153,
   "metadata": {
    "collapsed": false
   },
   "outputs": [
    {
     "data": {
      "text/plain": [
       "5816478.3576867143"
      ]
     },
     "execution_count": 153,
     "metadata": {},
     "output_type": "execute_result"
    }
   ],
   "source": [
    "np.percentile(afore_sim.iloc[-1].values, min_prob) + np.percentile(cetes_sim.iloc[-1].values, min_prob)"
   ]
  },
  {
   "cell_type": "code",
   "execution_count": null,
   "metadata": {
    "collapsed": true
   },
   "outputs": [],
   "source": []
  }
 ],
 "metadata": {
  "kernelspec": {
   "display_name": "Python 2",
   "language": "python",
   "name": "python2"
  },
  "language_info": {
   "codemirror_mode": {
    "name": "ipython",
    "version": 2
   },
   "file_extension": ".py",
   "mimetype": "text/x-python",
   "name": "python",
   "nbconvert_exporter": "python",
   "pygments_lexer": "ipython2",
   "version": "2.7.12+"
  }
 },
 "nbformat": 4,
 "nbformat_minor": 1
}
